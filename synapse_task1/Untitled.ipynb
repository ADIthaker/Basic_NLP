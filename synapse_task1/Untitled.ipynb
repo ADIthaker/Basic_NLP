{
 "cells": [
  {
   "cell_type": "code",
   "execution_count": 23,
   "metadata": {},
   "outputs": [],
   "source": [
    "from nltk.corpus import stopwords\n",
    "from nltk.tokenize import word_tokenize\n",
    "import numpy as np\n",
    "import nltk\n",
    "#nltk.download('punkt')"
   ]
  },
  {
   "cell_type": "code",
   "execution_count": 24,
   "metadata": {},
   "outputs": [],
   "source": [
    "def getData(file):\n",
    "    data = open(file).read()\n",
    "    return data"
   ]
  },
  {
   "cell_type": "code",
   "execution_count": 25,
   "metadata": {},
   "outputs": [],
   "source": [
    "def process(file, data):\n",
    "    tokens = word_tokenize(data)\n",
    "    words = [w.lower() for w in tokens]\n",
    "    porter = nltk.PorterStemmer()\n",
    "    stemmed_tokens = [porter.stem(t) for t in words]\n",
    "    \n",
    "    stop_words = set(stopwords.words('english'))\n",
    "    filtered_tokens = [w for w in stemmed_tokens if not w in stop_words]\n",
    "    \n",
    "    count = nltk.defaultdict(int)\n",
    "    for word in filtered_tokens:\n",
    "        count[word] +=1\n",
    "    return count"
   ]
  },
  {
   "cell_type": "code",
   "execution_count": 26,
   "metadata": {},
   "outputs": [],
   "source": [
    "def cos_sim(v1,v2):\n",
    "    dot_prod = np.dot(v1,v2)\n",
    "    norm_a = np.linalg.norm(v1)\n",
    "    norm_b = np.linalg.norm(v2)\n",
    "    return dot_prod/(norm_a*norm_b)"
   ]
  },
  {
   "cell_type": "code",
   "execution_count": 29,
   "metadata": {},
   "outputs": [],
   "source": [
    "def getSimilarity(dict1,dict2):\n",
    "    all_words_list=[]\n",
    "    for key in dict1:\n",
    "        all_words_list.append(key)\n",
    "    for key in dict2:\n",
    "        all_words_list.append(key)\n",
    "    all_words_list_size = len(all_words_list)\n",
    "    v1 = np.zeros(all_words_list_size, dtype = np.int)\n",
    "    v2 = np.zeros(all_words_list_size, dtype = np.int)\n",
    "    i = 0\n",
    "    for key in all_words_list:\n",
    "        v1[i] = dict1.get(key, 0)\n",
    "        v2[i] = dict2.get(key, 0)\n",
    "        i += 1\n",
    "    return cos_sim(v1, v2)"
   ]
  },
  {
   "cell_type": "code",
   "execution_count": 31,
   "metadata": {},
   "outputs": [
    {
     "name": "stdout",
     "output_type": "stream",
     "text": [
      "Similarity between 100554news and 100593news is:  0.8870347180753718\n",
      "Similarity between 100593news and 100618news is:  0.9826231034166607\n",
      "Similarity between 100554news and 100618news is:  0.9054711438230666\n",
      "Similarity between 100554news and 137871news is: 0.7752750148694301\n"
     ]
    }
   ],
   "source": [
    "dict1 = process('./100554newsML.txt', getData('./100554newsML.txt'))\n",
    "dict2 = process('./100593newsML.txt', getData('./100593newsML.txt'))\n",
    "dict3 = process('./100618newsML.txt', getData('./100618newsML.txt'))\n",
    "dict4 = process('137871newsML.txt', getData('137871newsML.txt'))\n",
    "print(\"Similarity between 100554news and 100593news is: \", getSimilarity(dict1, dict2))\n",
    "print(\"Similarity between 100593news and 100618news is: \", getSimilarity(dict2, dict3))\n",
    "print(\"Similarity between 100554news and 100618news is: \", getSimilarity(dict1, dict3))\n",
    "print(\"Similarity between 100554news and 137871news is:\", getSimilarity(dict1, dict4))"
   ]
  }
 ],
 "metadata": {
  "kernelspec": {
   "display_name": "Python 3",
   "language": "python",
   "name": "python3"
  },
  "language_info": {
   "codemirror_mode": {
    "name": "ipython",
    "version": 3
   },
   "file_extension": ".py",
   "mimetype": "text/x-python",
   "name": "python",
   "nbconvert_exporter": "python",
   "pygments_lexer": "ipython3",
   "version": "3.7.4"
  }
 },
 "nbformat": 4,
 "nbformat_minor": 2
}
